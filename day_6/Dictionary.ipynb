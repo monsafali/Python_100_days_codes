{
 "cells": [
  {
   "cell_type": "code",
   "execution_count": 15,
   "metadata": {},
   "outputs": [
    {
     "name": "stdout",
     "output_type": "stream",
     "text": [
      "{}\n"
     ]
    }
   ],
   "source": [
    "#  Create  an empty dictionary called dog\n",
    "Empty = {}\n",
    "print(Empty)\n"
   ]
  },
  {
   "cell_type": "code",
   "execution_count": null,
   "metadata": {},
   "outputs": [],
   "source": [
    "# dd name, color, breed, legs, age to the dog dictionary\n",
    "Empty['Name'] = 'Monsaf'\n",
    "Empty['color'] = 'red'\n",
    "Empty['Age'] = 25\n",
    "print(Empty)"
   ]
  },
  {
   "cell_type": "code",
   "execution_count": 43,
   "metadata": {},
   "outputs": [
    {
     "name": "stdout",
     "output_type": "stream",
     "text": [
      "{}\n"
     ]
    }
   ],
   "source": [
    "# Create a student dictionary and add first_name, last_name, gender, age, marital status, \n",
    "# skills, country, city and address as keys for the dictionary\n",
    "Student_dict = {'F_name':'Monsaf','L_name':'Ali','Gender':'male','status':'single',\n",
    "                'Skill':['typing','coding','running'],'country':'Pakistan'}\n",
    "# print(Student_dict.keys())\n",
    "# print(Student_dict.values())\n",
    "# print(Student_dict.items())\n",
    "Student_dict.update({'city':'fortabbas'})#add any new items\n",
    "Student_dict['height'] = 26 #add any new item\n",
    "# Student_dict.pop('height')#delte any item\n",
    "Student_dict.clear()#clear all items\n",
    "print(Student_dict)"
   ]
  },
  {
   "cell_type": "code",
   "execution_count": null,
   "metadata": {},
   "outputs": [],
   "source": []
  }
 ],
 "metadata": {
  "kernelspec": {
   "display_name": "Python 3",
   "language": "python",
   "name": "python3"
  },
  "language_info": {
   "codemirror_mode": {
    "name": "ipython",
    "version": 3
   },
   "file_extension": ".py",
   "mimetype": "text/x-python",
   "name": "python",
   "nbconvert_exporter": "python",
   "pygments_lexer": "ipython3",
   "version": "3.9.1"
  },
  "orig_nbformat": 4
 },
 "nbformat": 4,
 "nbformat_minor": 2
}
