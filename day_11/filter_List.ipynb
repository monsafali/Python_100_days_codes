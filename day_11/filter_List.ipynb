{
 "cells": [
  {
   "cell_type": "code",
   "execution_count": 5,
   "metadata": {},
   "outputs": [
    {
     "name": "stdout",
     "output_type": "stream",
     "text": [
      "[-4, -2, -1, 0, -6]\n"
     ]
    }
   ],
   "source": [
    "# 1. Filter only negative and zero in the list using list comprehension\n",
    "#    ```py\n",
    "numbers = [-4, 1, -2, -1, 0, 2, 4, -6]\n",
    "negative_and_zero = []\n",
    "\n",
    "for x  in numbers:\n",
    "    if x <= 0:\n",
    "        negative_and_zero.append(x)\n",
    "print(negative_and_zero)"
   ]
  },
  {
   "cell_type": "code",
   "execution_count": 4,
   "metadata": {},
   "outputs": [
    {
     "name": "stdout",
     "output_type": "stream",
     "text": [
      "[-4, -2, -1, 0, -6]\n"
     ]
    }
   ],
   "source": [
    "negative_and_zero = [i for i in numbers if i <= 0 ]\n",
    "print(negative_and_zero)"
   ]
  },
  {
   "cell_type": "code",
   "execution_count": null,
   "metadata": {},
   "outputs": [],
   "source": []
  }
 ],
 "metadata": {
  "kernelspec": {
   "display_name": "Python 3",
   "language": "python",
   "name": "python3"
  },
  "language_info": {
   "codemirror_mode": {
    "name": "ipython",
    "version": 3
   },
   "file_extension": ".py",
   "mimetype": "text/x-python",
   "name": "python",
   "nbconvert_exporter": "python",
   "pygments_lexer": "ipython3",
   "version": "3.9.1"
  },
  "orig_nbformat": 4
 },
 "nbformat": 4,
 "nbformat_minor": 2
}
