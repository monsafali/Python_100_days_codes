{
 "cells": [
  {
   "cell_type": "code",
   "execution_count": 8,
   "metadata": {},
   "outputs": [
    {
     "name": "stdout",
     "output_type": "stream",
     "text": [
      "your are child now\n"
     ]
    }
   ],
   "source": [
    "# 1.  Get user input using input(“Enter your age: ”). If user is 18 or older, give feedback\n",
    "# : You are old enough to drive. If below 18 give feedback to wait for \n",
    "# the missing amount of years. Output:\n",
    "\n",
    "Age = int(input(\"Enter your Age: \"))\n",
    "if Age > 18:\n",
    "    print('You are old enough to learn to drive')\n",
    "elif Age < 18 and Age > 15:\n",
    "    print('You need  more years to learn to drive')\n",
    "else:\n",
    "    print('your are child now')"
   ]
  },
  {
   "cell_type": "code",
   "execution_count": null,
   "metadata": {},
   "outputs": [],
   "source": [
    "#  Compare the values of my_age and your_age using if … else. Who is older (me or you)?\n",
    "# to print 'year' for 1 year difference in age, 'years' for bigger differences, and a custom\n",
    "# text if my_age = your_age. Output:\n",
    "    # Enter your age: 30\n",
    "    # You are 5 years older than me.\n",
    "my_age = int(input(\"Enter your age: \"))\n",
    "your_age = int(input(\"Enter yourage: \"))\n",
    "\n",
    "if my_age > your_age and my_age - your_age !=1:\n",
    "    print(\"I am\", your_age - my_age,\"years older than you.\")\n",
    "elif my_age - your_age == 1:\n",
    "        print(\"I am a year older than you.\")\n",
    "else:\n",
    "    print(\"you are\", my_age-your_age  ,\"years older than me.\")\n",
    "    "
   ]
  },
  {
   "cell_type": "code",
   "execution_count": 82,
   "metadata": {},
   "outputs": [
    {
     "name": "stdout",
     "output_type": "stream",
     "text": [
      "58 is greater than 55\n"
     ]
    }
   ],
   "source": [
    "# 3.  Get two numbers from the user using input prompt. If a is greater than b return a is greater than b,\n",
    "# if a is less b return a is smaller than b, else a is equal to b. Output:\n",
    "first_Num = int(input(\"Enter first number: \"))\n",
    "Second_Num = int(input(\"Enter second number : \"))\n",
    "if first_Num > Second_Num:\n",
    "    print(f'{first_Num} is greater than {Second_Num}')\n",
    "if first_Num < Second_Num:\n",
    "    print(f'{first_Num} is less than {Second_Num}')\n",
    "if first_Num == Second_Num:\n",
    "    print(f'{first_Num} is equal to {Second_Num}')"
   ]
  },
  {
   "cell_type": "code",
   "execution_count": 105,
   "metadata": {},
   "outputs": [
    {
     "name": "stdout",
     "output_type": "stream",
     "text": [
      "your are fail\n"
     ]
    }
   ],
   "source": [
    "# Write a code which gives grade to students according to theirs scores:\n",
    "#   ```sh\n",
    "#         80-100, A\n",
    "#         70-89, B\n",
    "#         60-69, C\n",
    "#         50-59, D\n",
    "#         0-49, F\n",
    "for x in range(101):\n",
    "    if x > 80:\n",
    "        print('80-100 = A grade')\n",
    "        break\n",
    "    if x > 70 and x < 89:\n",
    "        print('70-89 = B grade') \n",
    "        break\n",
    "    if x > 60 and x < 69:\n",
    "        print('60-69 = C Grade')\n",
    "        break\n",
    "    if x > 50 and x < 59:\n",
    "        print('50 - 59 = D grade')\n",
    "        break\n",
    "    if x < 50:\n",
    "        print('your are fail')\n",
    "        break"
   ]
  },
  {
   "cell_type": "code",
   "execution_count": 106,
   "metadata": {},
   "outputs": [
    {
     "name": "stdout",
     "output_type": "stream",
     "text": [
      "80-100 = A grade\n",
      "70-89 = B grade\n",
      "60-69 = C Grade\n",
      "50 - 59 = D grade\n",
      "your are fail\n"
     ]
    }
   ],
   "source": [
    "for x in range(101):\n",
    "    if x > 80:\n",
    "        print('80-100 = A grade')\n",
    "        break\n",
    "for x in range(101):\n",
    "    if x > 70 and x < 89:\n",
    "        print('70-89 = B grade') \n",
    "        break\n",
    "for x in range(101):\n",
    "    if x > 60 and x < 69:\n",
    "        print('60-69 = C Grade')\n",
    "        break\n",
    "for x in range(101):\n",
    "    if x > 50 and x < 59:\n",
    "        print('50 - 59 = D grade')\n",
    "        break\n",
    "for x in range(101):\n",
    "    if x < 50:\n",
    "        print('your are fail')\n",
    "        break"
   ]
  },
  {
   "cell_type": "code",
   "execution_count": null,
   "metadata": {},
   "outputs": [],
   "source": []
  }
 ],
 "metadata": {
  "kernelspec": {
   "display_name": "Python 3",
   "language": "python",
   "name": "python3"
  },
  "language_info": {
   "codemirror_mode": {
    "name": "ipython",
    "version": 3
   },
   "file_extension": ".py",
   "mimetype": "text/x-python",
   "name": "python",
   "nbconvert_exporter": "python",
   "pygments_lexer": "ipython3",
   "version": "3.9.1"
  },
  "orig_nbformat": 4
 },
 "nbformat": 4,
 "nbformat_minor": 2
}
