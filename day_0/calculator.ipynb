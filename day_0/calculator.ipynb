{
 "cells": [
  {
   "cell_type": "code",
   "execution_count": null,
   "metadata": {},
   "outputs": [],
   "source": [
    "fir_num = int(input('Enter first number ?'))\n",
    "sec_num = int(input('Enter second number ?'))\n",
    "operator = input('Enter The Operands ? *, /, +, -')\n",
    "if operator == '+':\n",
    "    print('The sum is: ', fir_num + sec_num)\n",
    "elif operator == '*':\n",
    "    print('The multiply is: ', fir_num * sec_num)\n",
    "elif operator == '/':\n",
    "    print(fir_num / sec_num)\n",
    "elif operator == '-':\n",
    "    print(fir_num - sec_num)\n",
    "else: print('Enter a valid Operand')"
   ]
  }
 ],
 "metadata": {
  "kernelspec": {
   "display_name": "Python 3",
   "language": "python",
   "name": "python3"
  },
  "language_info": {
   "codemirror_mode": {
    "name": "ipython",
    "version": 3
   },
   "file_extension": ".py",
   "mimetype": "text/x-python",
   "name": "python",
   "nbconvert_exporter": "python",
   "pygments_lexer": "ipython3",
   "version": "3.9.1"
  },
  "orig_nbformat": 4
 },
 "nbformat": 4,
 "nbformat_minor": 2
}
