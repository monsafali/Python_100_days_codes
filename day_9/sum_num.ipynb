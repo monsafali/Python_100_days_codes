{
 "cells": [
  {
   "cell_type": "code",
   "execution_count": 29,
   "metadata": {},
   "outputs": [],
   "source": [
    "# Declare a function _add_two_numbers_. It takes two parameters \n",
    "# and it returns a sum.\n",
    "def Sum(a,b):\n",
    "    sum = a+b\n",
    "    return sum"
   ]
  },
  {
   "cell_type": "code",
   "execution_count": 30,
   "metadata": {},
   "outputs": [
    {
     "data": {
      "text/plain": [
       "24"
      ]
     },
     "execution_count": 30,
     "metadata": {},
     "output_type": "execute_result"
    }
   ],
   "source": [
    "Sum(12,12)"
   ]
  },
  {
   "cell_type": "code",
   "execution_count": 57,
   "metadata": {},
   "outputs": [],
   "source": [
    "monsaf = [2343,3423,23,34,'23','aadf','badf']"
   ]
  },
  {
   "cell_type": "code",
   "execution_count": 58,
   "metadata": {},
   "outputs": [],
   "source": [
    "# Declare a function named print_list. It takes a list as a \n",
    "# parameter and it printsout each element of the list.\n",
    "def print_list(list):\n",
    " for i in range(len(list)):\n",
    "     print(list[i])"
   ]
  },
  {
   "cell_type": "code",
   "execution_count": 59,
   "metadata": {},
   "outputs": [
    {
     "name": "stdout",
     "output_type": "stream",
     "text": [
      "2343\n",
      "3423\n",
      "23\n",
      "34\n",
      "23\n",
      "aadf\n",
      "badf\n"
     ]
    }
   ],
   "source": [
    "print_list(monsaf)"
   ]
  },
  {
   "cell_type": "code",
   "execution_count": 63,
   "metadata": {},
   "outputs": [],
   "source": [
    "# Declare a function named reverse_list. It takes an \n",
    "# array as a parameter and it returns the reverse of the array (use loops).\n",
    "def reverse_List(List):\n",
    "    return List[::-1]\n"
   ]
  },
  {
   "cell_type": "code",
   "execution_count": null,
   "metadata": {},
   "outputs": [],
   "source": [
    "reverse_List(monsaf)"
   ]
  },
  {
   "cell_type": "code",
   "execution_count": null,
   "metadata": {},
   "outputs": [],
   "source": []
  },
  {
   "cell_type": "code",
   "execution_count": 81,
   "metadata": {},
   "outputs": [
    {
     "data": {
      "text/plain": [
       "'MONSAF ALI KAMAL'"
      ]
     },
     "execution_count": 81,
     "metadata": {},
     "output_type": "execute_result"
    }
   ],
   "source": [
    "# Declare a function named capitalize_list_items. It takes a list as a parameter\n",
    "#  and it returns a capitalized list of items\n",
    "a = ['monsaf','ali','kamal']\n",
    "b = ' '.join(a)\n",
    "def capitalize_list_items(List):\n",
    "    return List.upper()\n",
    "capitalize_list_items(b)"
   ]
  },
  {
   "cell_type": "code",
   "execution_count": 88,
   "metadata": {},
   "outputs": [
    {
     "data": {
      "text/plain": [
       "['Potato', 'Tomato', 'Mango', 'Milk', 'Meat']"
      ]
     },
     "execution_count": 88,
     "metadata": {},
     "output_type": "execute_result"
    }
   ],
   "source": [
    "# Declare a function named add_item. It takes a list and an item parameters. \n",
    "# It returns a list with the item added at the end.\n",
    "food_staff = ['Potato', 'Tomato', 'Mango', 'Milk']\n",
    "def add_element(List):\n",
    "    List.append('Meat')\n",
    "    return List\n",
    "add_element(food_staff)"
   ]
  },
  {
   "cell_type": "code",
   "execution_count": 91,
   "metadata": {},
   "outputs": [],
   "source": [
    "# Declare a function named remove_item. It takes a list and \n",
    "# an item parameters. It returns a list with the item removed from it.\n",
    "food_staff = ['Potato', 'Tomato', 'Mango', 'Milk']\n",
    "def remove_item(List):\n",
    "    List.remove('Tomato')\n",
    "    return List"
   ]
  },
  {
   "cell_type": "code",
   "execution_count": null,
   "metadata": {},
   "outputs": [],
   "source": [
    "#  Declare a function named sum_of_numbers. It takes a number parameter \n",
    "#  and it adds all the numbers in that range.\n",
    "number = [2,34,3,43,3,3,43,34343,34,3,43,3]\n",
    "def sum_of_list(List):\n",
    "  total = 0\n",
    "  for x in List:\n",
    "    total = total + x\n",
    "  return total\n",
    "sum_of_list(number)"
   ]
  },
  {
   "cell_type": "code",
   "execution_count": null,
   "metadata": {},
   "outputs": [],
   "source": []
  }
 ],
 "metadata": {
  "kernelspec": {
   "display_name": "Python 3",
   "language": "python",
   "name": "python3"
  },
  "language_info": {
   "codemirror_mode": {
    "name": "ipython",
    "version": 3
   },
   "file_extension": ".py",
   "mimetype": "text/x-python",
   "name": "python",
   "nbconvert_exporter": "python",
   "pygments_lexer": "ipython3",
   "version": "3.9.1"
  },
  "orig_nbformat": 4
 },
 "nbformat": 4,
 "nbformat_minor": 2
}
