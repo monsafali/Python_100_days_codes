{
 "cells": [
  {
   "cell_type": "code",
   "execution_count": null,
   "metadata": {},
   "outputs": [],
   "source": [
    "# how to strip & split string\n",
    "challenge = '    thirty       days      of      pythoonnn  '\n",
    "new = challenge.split()\n",
    "print(new)\n",
    "again = ' '.join(new)\n",
    "print(again)"
   ]
  }
 ],
 "metadata": {
  "language_info": {
   "name": "python"
  },
  "orig_nbformat": 4
 },
 "nbformat": 4,
 "nbformat_minor": 2
}
