{
 "cells": [
  {
   "cell_type": "code",
   "execution_count": null,
   "metadata": {},
   "outputs": [],
   "source": [
    "\n",
    "ID = 'ABCD'\n",
    "Passwd = 'xxx-xxx-xxx'\n",
    "for x in range(3):\n",
    "    User_Input_ID=input('Enter ID : ')\n",
    "   \n",
    "    if User_Input_ID == ID:\n",
    "        for y in range(3):\n",
    "            User_Input_Passwrd = input('Enter Your Password : ')\n",
    "            if User_Input_Passwrd == Passwd:\n",
    "                print('Access Granted ..')\n",
    "                break   \n",
    "            else:\n",
    "                print('Password Is Incorrect ')\n",
    "        break\n",
    "    else:\n",
    "        print('ID Is Incorrect')"
   ]
  },
  {
   "cell_type": "code",
   "execution_count": null,
   "metadata": {},
   "outputs": [],
   "source": []
  }
 ],
 "metadata": {
  "kernelspec": {
   "display_name": "Python 3",
   "language": "python",
   "name": "python3"
  },
  "language_info": {
   "codemirror_mode": {
    "name": "ipython",
    "version": 3
   },
   "file_extension": ".py",
   "mimetype": "text/x-python",
   "name": "python",
   "nbconvert_exporter": "python",
   "pygments_lexer": "ipython3",
   "version": "3.9.1"
  },
  "orig_nbformat": 4
 },
 "nbformat": 4,
 "nbformat_minor": 2
}
