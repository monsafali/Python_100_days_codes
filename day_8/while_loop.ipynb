{
 "cells": [
  {
   "cell_type": "code",
   "execution_count": null,
   "metadata": {},
   "outputs": [],
   "source": [
    "# Iterate 0 to 10 using for loop, do the same using while loop.\n",
    "# for x in range(0,11):\n",
    "#     print(x)\n",
    "count = 0\n",
    "while count <= 11:\n",
    "    print(count)\n",
    "    count = count +1"
   ]
  },
  {
   "cell_type": "code",
   "execution_count": null,
   "metadata": {},
   "outputs": [],
   "source": [
    "# Iterate 10 to 0 using for loop, do the same using while loop.\n",
    "# store = []\n",
    "# for x in range(0,11):\n",
    "#     store.append(x)\n",
    "# print(store[::-1])\n",
    "\n",
    "# while loop\n",
    "count = 11\n",
    "while count >= 0:\n",
    "    print(count)\n",
    "    count = count - 1\n"
   ]
  }
 ],
 "metadata": {
  "language_info": {
   "name": "python"
  },
  "orig_nbformat": 4
 },
 "nbformat": 4,
 "nbformat_minor": 2
}
