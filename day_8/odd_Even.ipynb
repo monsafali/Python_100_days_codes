{
 "cells": [
  {
   "cell_type": "code",
   "execution_count": null,
   "metadata": {},
   "outputs": [],
   "source": [
    "# Use for loop to iterate from 0 to 100 and print only even numbers\n",
    "# Use for loop to iterate from 0 to 100 and print only odd numbers\n",
    "odd_number = []\n",
    "even_number = []\n",
    "for x in range(101):\n",
    "    if x%2 == 1:\n",
    "        odd_number.append(x)\n",
    "    elif x%2==0:\n",
    "        even_number.append(x)\n",
    "print(odd_number)\n",
    "print(even_number)"
   ]
  },
  {
   "cell_type": "code",
   "execution_count": null,
   "metadata": {},
   "outputs": [],
   "source": [
    "# Use for loop to iterate from 0 to 100 and print the sum \n",
    "# of all evens and the sum of all odds.\n",
    "# The sum of all evens is 2550. And the sum of all odds is 2500.\n",
    "odd_number = 0\n",
    "even_number = 0\n",
    "for x in range(101):\n",
    "    if x%2 == 1:\n",
    "        odd_number = odd_number+x\n",
    "    elif x%2==0:\n",
    "        even_number = even_number+x\n",
    "print(odd_number)\n",
    "print(even_number)"
   ]
  }
 ],
 "metadata": {
  "language_info": {
   "name": "python"
  },
  "orig_nbformat": 4
 },
 "nbformat": 4,
 "nbformat_minor": 2
}
