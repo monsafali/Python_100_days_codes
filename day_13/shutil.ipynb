{
 "cells": [
  {
   "cell_type": "code",
   "execution_count": null,
   "metadata": {},
   "outputs": [],
   "source": [
    "import shutil, os\n",
    "os.chdir('C:\\\\Users\\\\Kamal\\\\Desktop\\\\python')\n",
    "shutil.copy('C:\\\\Users\\\\Kamal\\\\Desktop\\\\python\\\\first.ipynb','C:\\\\Users\\\\Kamal\\\\Desktop\\\\kamal\\\\')\n",
    "#copy files one place to another "
   ]
  },
  {
   "cell_type": "code",
   "execution_count": null,
   "metadata": {},
   "outputs": [],
   "source": [
    "shutil.move('C:\\\\Users\\\\Kamal\\\\Desktop\\\\python\\\\first.ipynb','C:\\\\Users\\\\Kamal\\\\Desktop\\\\kamal\\\\move.ipynb')\n",
    "#move one place to another "
   ]
  },
  {
   "cell_type": "code",
   "execution_count": null,
   "metadata": {},
   "outputs": [],
   "source": [
    "# compy folder make backup\n",
    "shutil.copytree('C:\\\\Users\\\\Kamal\\\\Desktop\\\\python\\\\','C:\\\\Users\\\\Kamal\\\\Desktop\\\\kamal\\\\new_backup')"
   ]
  },
  {
   "cell_type": "code",
   "execution_count": null,
   "metadata": {},
   "outputs": [],
   "source": [
    "# move one place to another \n",
    "shutil.move('C:\\\\Users\\\\Kamal\\\\Desktop\\\\python\\\\','C:\\\\Users\\\\Kamal\\\\Desktop\\\\kamal\\\\move\\\\')"
   ]
  },
  {
   "cell_type": "code",
   "execution_count": null,
   "metadata": {},
   "outputs": [],
   "source": [
    "# to delte a single file \n",
    "os.chdir('C:\\\\Users\\\\Kamal\\\\Desktop\\\\kamal')\n",
    "os.unlink('move.ipynb')"
   ]
  },
  {
   "cell_type": "code",
   "execution_count": 32,
   "metadata": {},
   "outputs": [],
   "source": [
    "# to delete whole file and folder \n",
    "shutil.rmtree('source','destination ')"
   ]
  },
  {
   "cell_type": "code",
   "execution_count": 30,
   "metadata": {},
   "outputs": [],
   "source": [
    "# to delete  folder but folder must be empty\n",
    "os.rmdir('C:\\\\Users\\\\Kamal\\\\Desktop\\\\kamal\\\\new')"
   ]
  },
  {
   "cell_type": "code",
   "execution_count": null,
   "metadata": {},
   "outputs": [],
   "source": [
    "# to move on recycle bin\n",
    "import send2trash\n",
    "send2trash.send2trash('source','destination')"
   ]
  },
  {
   "cell_type": "code",
   "execution_count": null,
   "metadata": {},
   "outputs": [],
   "source": []
  }
 ],
 "metadata": {
  "kernelspec": {
   "display_name": "Python 3",
   "language": "python",
   "name": "python3"
  },
  "language_info": {
   "codemirror_mode": {
    "name": "ipython",
    "version": 3
   },
   "file_extension": ".py",
   "mimetype": "text/x-python",
   "name": "python",
   "nbconvert_exporter": "python",
   "pygments_lexer": "ipython3",
   "version": "3.9.1"
  },
  "orig_nbformat": 4
 },
 "nbformat": 4,
 "nbformat_minor": 2
}
