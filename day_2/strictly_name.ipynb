{
 "cells": [
  {
   "cell_type": "code",
   "execution_count": 1,
   "metadata": {},
   "outputs": [
    {
     "name": "stdout",
     "output_type": "stream",
     "text": [
      "['M', 'K']\n"
     ]
    }
   ],
   "source": [
    "# Write a function to convert a name into initials.\n",
    "# This kata strictly takes two words with one space in between them.\n",
    "# The output should be two capital letters with a dot separating them.\n",
    "# It should look like this: Sam Harris => S.H patrick feeney => P.F\n",
    "name = 'monsaf kamal'\n",
    "NAME = name.upper()\n",
    "Name_List = NAME.split()\n",
    "First_Nu = []\n",
    "for x in Name_List:\n",
    "    First_Nu.append(x[0])\n",
    "print(First_Nu)"
   ]
  },
  {
   "cell_type": "code",
   "execution_count": 2,
   "metadata": {},
   "outputs": [
    {
     "data": {
      "text/plain": [
       "['M', 'K']"
      ]
     },
     "execution_count": 2,
     "metadata": {},
     "output_type": "execute_result"
    }
   ],
   "source": [
    "name = 'monsaf kamal'.upper()\n",
    "Name_List = name.split()\n",
    "[x[0] for x in Name_List]\n"
   ]
  },
  {
   "cell_type": "code",
   "execution_count": null,
   "metadata": {},
   "outputs": [],
   "source": []
  }
 ],
 "metadata": {
  "kernelspec": {
   "display_name": "Python 3",
   "language": "python",
   "name": "python3"
  },
  "language_info": {
   "codemirror_mode": {
    "name": "ipython",
    "version": 3
   },
   "file_extension": ".py",
   "mimetype": "text/x-python",
   "name": "python",
   "nbconvert_exporter": "python",
   "pygments_lexer": "ipython3",
   "version": "3.9.1"
  },
  "orig_nbformat": 4
 },
 "nbformat": 4,
 "nbformat_minor": 2
}
