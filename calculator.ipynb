{
 "cells": [
  {
   "cell_type": "code",
   "execution_count": null,
   "metadata": {},
   "outputs": [],
   "source": [
    "fir_num = int(input('Enter first number ?'))\n",
    "sec_num = int(input('Enter second number ?'))\n",
    "operator = input('Enter The Operands ? *, /, +, -')\n",
    "if operator == '+':\n",
    "    print('The sum is: ', fir_num + sec_num)\n",
    "elif operator == '*':\n",
    "    print('The multiply is: ', fir_num * sec_num)\n",
    "elif operator == '/':\n",
    "    print(fir_num / sec_num)\n",
    "elif operator == '-':\n",
    "    print(fir_num - sec_num)\n",
    "else: print('Enter a valid Operand')"
   ]
  }
 ],
 "metadata": {
  "language_info": {
   "name": "python"
  },
  "orig_nbformat": 4
 },
 "nbformat": 4,
 "nbformat_minor": 2
}
