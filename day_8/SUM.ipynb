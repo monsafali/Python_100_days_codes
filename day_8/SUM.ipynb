{
 "cells": [
  {
   "cell_type": "code",
   "execution_count": null,
   "metadata": {},
   "outputs": [],
   "source": [
    "#   Use for loop to iterate from 0 to 100 and print the\n",
    "#   sum of all numbers.\n",
    "Sum = 0\n",
    "for x in range(101):\n",
    "    Sum = Sum+x\n",
    "print(Sum)"
   ]
  }
 ],
 "metadata": {
  "language_info": {
   "name": "python"
  },
  "orig_nbformat": 4
 },
 "nbformat": 4,
 "nbformat_minor": 2
}
