{
 "cells": [
  {
   "cell_type": "code",
   "execution_count": null,
   "metadata": {},
   "outputs": [],
   "source": [
    "# rite a script that prompts the user to enter number of years.\n",
    "# Calculate the number of seconds a person can live. \n",
    "# Assume a person can live hundred years\n",
    "def year(year):\n",
    "    month = year*12\n",
    "    hour = month *24\n",
    "    minute = hour * 60\n",
    "    second = minute * 60\n",
    "    print(f'''In {year} year have a {month} month and {hour} hour \n",
    "& {minute} minutes & {second} second''')\n",
    "year(100)"
   ]
  },
  {
   "cell_type": "code",
   "execution_count": null,
   "metadata": {},
   "outputs": [],
   "source": []
  }
 ],
 "metadata": {
  "kernelspec": {
   "display_name": "Python 3",
   "language": "python",
   "name": "python3"
  },
  "language_info": {
   "codemirror_mode": {
    "name": "ipython",
    "version": 3
   },
   "file_extension": ".py",
   "mimetype": "text/x-python",
   "name": "python",
   "nbconvert_exporter": "python",
   "pygments_lexer": "ipython3",
   "version": "3.9.1"
  },
  "orig_nbformat": 4
 },
 "nbformat": 4,
 "nbformat_minor": 2
}
