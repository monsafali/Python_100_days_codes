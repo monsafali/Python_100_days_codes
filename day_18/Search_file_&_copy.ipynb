{
 "cells": [
  {
   "cell_type": "code",
   "execution_count": null,
   "metadata": {},
   "outputs": [],
   "source": [
    "import os\n",
    "import shutil\n",
    "\n",
    "# Set the directory where you want to start the search\n",
    "search_directory = \"C:\\\\\"\n",
    "\n",
    "# Set the name of the file you want to search for\n",
    "target_file = \"example.txt\"\n",
    "\n",
    "# List to store the paths of the found files\n",
    "found_files = []\n",
    "\n",
    "# Function to recursively search for the target file\n",
    "def search_files(directory, filename):\n",
    "    for root, dirs, files in os.walk(directory):\n",
    "        if filename in files:\n",
    "            found_files.append(os.path.join(root, filename))\n",
    "\n",
    "# Perform the search\n",
    "search_files(search_directory, target_file)\n",
    "\n",
    "# Check if any files were found\n",
    "if found_files:\n",
    "    print(f\"{len(found_files)} file(s) found.\")\n",
    "\n",
    "    # Choose a destination directory to copy the files\n",
    "    destination_directory = \"C:/Destina\"\n",
    "\n",
    "    # Create the destination directory if it doesn't exist\n",
    "    if not os.path.exists(destination_directory):\n",
    "        os.makedirs(destination_directory)\n",
    "\n",
    "    # Copy the found files to the destination directory\n",
    "    for file_path in found_files:\n",
    "        shutil.copy(file_path, destination_directory)\n",
    "    print(\"Files copied successfully.\")\n",
    "else:\n",
    "    print(\"No files found.\")"
   ]
  },
  {
   "cell_type": "code",
   "execution_count": null,
   "metadata": {},
   "outputs": [],
   "source": []
  }
 ],
 "metadata": {
  "kernelspec": {
   "display_name": "Python 3",
   "language": "python",
   "name": "python3"
  },
  "language_info": {
   "codemirror_mode": {
    "name": "ipython",
    "version": 3
   },
   "file_extension": ".py",
   "mimetype": "text/x-python",
   "name": "python",
   "nbconvert_exporter": "python",
   "pygments_lexer": "ipython3",
   "version": "3.9.1"
  },
  "orig_nbformat": 4
 },
 "nbformat": 4,
 "nbformat_minor": 2
}
