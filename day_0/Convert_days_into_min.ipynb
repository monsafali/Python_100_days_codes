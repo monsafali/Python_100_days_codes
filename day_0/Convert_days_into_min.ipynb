{
 "cells": [
  {
   "cell_type": "code",
   "execution_count": 19,
   "metadata": {},
   "outputs": [],
   "source": [
    "# write  a program to convert a day into hour minute and second\n",
    "calculate_to_hour = 24*60 \n",
    "name_unit = 'minute'\n",
    "\n",
    "def days_to_units(num_of_days):\n",
    "    print(f'''{num_of_days} days are {num_of_days*24} hour and {num_of_days * calculate_to_hour} \n",
    "{name_unit} & {calculate_to_hour * num_of_days * 60 } second''')"
   ]
  },
  {
   "cell_type": "code",
   "execution_count": null,
   "metadata": {},
   "outputs": [],
   "source": [
    "days_to_units(2)"
   ]
  },
  {
   "cell_type": "code",
   "execution_count": null,
   "metadata": {},
   "outputs": [],
   "source": []
  }
 ],
 "metadata": {
  "kernelspec": {
   "display_name": "Python 3",
   "language": "python",
   "name": "python3"
  },
  "language_info": {
   "codemirror_mode": {
    "name": "ipython",
    "version": 3
   },
   "file_extension": ".py",
   "mimetype": "text/x-python",
   "name": "python",
   "nbconvert_exporter": "python",
   "pygments_lexer": "ipython3",
   "version": "3.9.1"
  },
  "orig_nbformat": 4
 },
 "nbformat": 4,
 "nbformat_minor": 2
}
