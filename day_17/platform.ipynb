{
 "cells": [
  {
   "cell_type": "code",
   "execution_count": 18,
   "metadata": {},
   "outputs": [],
   "source": [
    "import os\n",
    "import platform"
   ]
  },
  {
   "cell_type": "code",
   "execution_count": 19,
   "metadata": {},
   "outputs": [
    {
     "name": "stdout",
     "output_type": "stream",
     "text": [
      "Windows\n",
      "Intel64 Family 6 Model 60 Stepping 3, GenuineIntel\n",
      "AMD64\n",
      "('64bit', 'WindowsPE')\n",
      "DESKTOP-ONH4QP3\n",
      "tags/v3.9.1\n",
      "10\n",
      "uname_result(system='Windows', node='DESKTOP-ONH4QP3', release='10', version='10.0.19041', machine='AMD64')\n",
      "Windows-10-10.0.19041-SP0\n"
     ]
    }
   ],
   "source": [
    "# showing syste information\n",
    "print(platform.system())\n",
    "print(platform.processor())\n",
    "print(platform.machine())\n",
    "print(platform.architecture())\n",
    "print(platform.node())\n",
    "print(platform.python_branch())\n",
    "print(platform.release())\n",
    "print(platform.uname())\n",
    "print(platform.platform())"
   ]
  },
  {
   "cell_type": "code",
   "execution_count": 26,
   "metadata": {},
   "outputs": [
    {
     "name": "stdout",
     "output_type": "stream",
     "text": [
      "Showing configurations for windows\n"
     ]
    }
   ],
   "source": [
    "\n",
    "if platform.system() == \"Windows\":\n",
    "    print(\"Showing configurations for windows\")\n",
    "    os.system('ipconfig')\n",
    "elif platform.system() == \"Linux\":\n",
    "    print(\"Showing configurations for Linux\")\n",
    "    os.system('ifconfig')\n",
    "else:\n",
    "    print(\"Sorry os not detected\")"
   ]
  },
  {
   "cell_type": "code",
   "execution_count": 25,
   "metadata": {},
   "outputs": [
    {
     "data": {
      "text/plain": [
       "0"
      ]
     },
     "execution_count": 25,
     "metadata": {},
     "output_type": "execute_result"
    }
   ],
   "source": []
  },
  {
   "cell_type": "code",
   "execution_count": null,
   "metadata": {},
   "outputs": [],
   "source": []
  }
 ],
 "metadata": {
  "kernelspec": {
   "display_name": "Python 3",
   "language": "python",
   "name": "python3"
  },
  "language_info": {
   "codemirror_mode": {
    "name": "ipython",
    "version": 3
   },
   "file_extension": ".py",
   "mimetype": "text/x-python",
   "name": "python",
   "nbconvert_exporter": "python",
   "pygments_lexer": "ipython3",
   "version": "3.9.1"
  },
  "orig_nbformat": 4
 },
 "nbformat": 4,
 "nbformat_minor": 2
}
